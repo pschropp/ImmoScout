{
 "cells": [
  {
   "cell_type": "markdown",
   "metadata": {},
   "source": [
    "ImmoScoutScraper\n",
    "go to immobilienscout24.de, do your search, specifying all search criteria, copy url and paste into input cell below.\n",
    "Specify SaveFolder to have the result .csv saved there\n",
    "\n",
    "Further steps\n",
    "Expose-ID will be read and Immobilien-Scout Expose-API will be called"
   ]
  },
  {
   "cell_type": "code",
   "execution_count": 1,
   "metadata": {},
   "outputs": [],
   "source": [
    "import requests\n",
    "from bs4 import BeautifulSoup\n",
    "import pandas as pd\n",
    "import math\n",
    "import os.path\n",
    "from os import path\n",
    "\n",
    "LinkList=[]\n",
    "PageNo, ResultPageNo = 0, 1"
   ]
  },
  {
   "cell_type": "code",
   "execution_count": 2,
   "metadata": {},
   "outputs": [],
   "source": [
    "#Inputs\n",
    "#Paste Search URL (with filters encoded into it) here\n",
    "URLwCriteria = \"https://www.immobilienscout24.de/Suche/radius/wohnung-kaufen?centerofsearchaddress=Landshut%20(Kreis);;;1276002051;Bayern;&numberofrooms=1.0-&price=-950000.0&livingspace=40.0-&geocoordinates=48.54481;12.19322;10.0&enteredFrom=one_step_search\"\n",
    "\n",
    "#specify folder to save results in (relative to JupyterProjects folder)\n",
    "#SaveFolder = \"JupyterProjects/ImmoScout/\"\n",
    "DownloadFileName = \"ExposeURLs_WhngKaufen_LA\" #date and .csv will be added automaticalle. recommendation: specify Object type and location\n",
    "DownloadMasterName = \"Master_WhngKaufen_LA\""
   ]
  },
  {
   "cell_type": "code",
   "execution_count": 3,
   "metadata": {},
   "outputs": [],
   "source": [
    "#preprocess input\n",
    "##remove the \"enteredFrom=XYZ\" and add add \"pagenumber=\" from URL (assumption: user does not go to other search pages before copying URL)\n",
    "if \"enteredFrom=\" in URLwCriteria:\n",
    "    URLwCriteria = URLwCriteria[:URLwCriteria.find(\"enteredFrom=\",32)]\n",
    "URLwCriteria += \"pagenumber=\"\n",
    "##construct paths from filenames and folder\n",
    "\n",
    "DateTimeToday = pd.to_datetime(\"today\")\n",
    "DateToday = str(pd.datetime.now().date())\n",
    "DownloadFilePath = DateToday+\"_\"+DownloadFileName+\".csv\" #evtl. = SaveFolder+...\n",
    "DownloadMasterPath = DownloadMasterName+\".csv\" #evtl. = SaveFolder+..."
   ]
  },
  {
   "cell_type": "code",
   "execution_count": 4,
   "metadata": {},
   "outputs": [],
   "source": [
    "#Loop over result pages. starting with 1 up number of results divided by 20 (which is the number of results displayed per result page)\n",
    "\n",
    "while PageNo < ResultPageNo:\n",
    "    PageNo += 1\n",
    "\n",
    "    URLwPageNo = URLwCriteria + str(PageNo)\n",
    "    page = requests.get(URLwPageNo, timeout=3)\n",
    "    soup = BeautifulSoup(page.content, 'html.parser')\n",
    "\n",
    "    #find number of search results to calculate number of pages to check, if on first page\n",
    "    if PageNo == 1:\n",
    "        titletext = soup.find (\"div\", class_=\"palm-hide margin-bottom-m\")\n",
    "        #print(titletext)\n",
    "        resultnumberhtml = titletext.find(\"span\")\n",
    "        resultnumber=resultnumberhtml.text\n",
    "        #print(resultnumber)\n",
    "        #calculate number of pages to check\n",
    "        ResultPageNo = math.ceil(int(resultnumber)/20)\n",
    "        #print(ResultPageNo)\n",
    "\n",
    "    #Extract Links from html and then extract only text after \"href\"\n",
    "    HtmlLinks = soup.find_all('a')\n",
    "    #print(HtmlLinks)\n",
    "    for HtmlLink in HtmlLinks:\n",
    "        LinkText = HtmlLink.get(\"href\")\n",
    "        #print(LinkText)\n",
    "        LinkList.append(LinkText[:17])  "
   ]
  },
  {
   "cell_type": "code",
   "execution_count": 5,
   "metadata": {},
   "outputs": [],
   "source": [
    "#print(LinkList)\n",
    "#clean up\n",
    "del soup"
   ]
  },
  {
   "cell_type": "code",
   "execution_count": 6,
   "metadata": {},
   "outputs": [],
   "source": [
    "#Create list of URLs of (only) Exposes, extracted from list of all links after looping over result pages\n",
    "ExposeURLList = list(set([\"https://www.immobilienscout24.de\"+ExposePath for ExposePath in LinkList if \"/expose/\" in ExposePath])) #use set to remove duplicates. order will be lost\n",
    "#print(ExposeURLList)\n",
    "#print(len(ExposeURLList))\n",
    "\n",
    "#Create list of Expose IDs from ExposeURLList\n",
    "ExposeIDList = [ExposeURL[40:49] for ExposeURL in ExposeURLList]\n",
    "#print(ExposeIDList)"
   ]
  },
  {
   "cell_type": "code",
   "execution_count": 7,
   "metadata": {},
   "outputs": [
    {
     "data": {
      "text/html": [
       "<div>\n",
       "<style scoped>\n",
       "    .dataframe tbody tr th:only-of-type {\n",
       "        vertical-align: middle;\n",
       "    }\n",
       "\n",
       "    .dataframe tbody tr th {\n",
       "        vertical-align: top;\n",
       "    }\n",
       "\n",
       "    .dataframe thead th {\n",
       "        text-align: right;\n",
       "    }\n",
       "</style>\n",
       "<table border=\"1\" class=\"dataframe\">\n",
       "  <thead>\n",
       "    <tr style=\"text-align: right;\">\n",
       "      <th></th>\n",
       "      <th>ExposeID</th>\n",
       "      <th>ExposeURL</th>\n",
       "      <th>DownloadDate</th>\n",
       "      <th>SearchURL</th>\n",
       "    </tr>\n",
       "  </thead>\n",
       "  <tbody>\n",
       "    <tr>\n",
       "      <td>0</td>\n",
       "      <td>114892178</td>\n",
       "      <td>https://www.immobilienscout24.de/expose/114892178</td>\n",
       "      <td>2020-01-26 22:09:45.714092</td>\n",
       "      <td>https://www.immobilienscout24.de/Suche/radius/...</td>\n",
       "    </tr>\n",
       "    <tr>\n",
       "      <td>1</td>\n",
       "      <td>115435502</td>\n",
       "      <td>https://www.immobilienscout24.de/expose/115435502</td>\n",
       "      <td>2020-01-26 22:09:45.714092</td>\n",
       "      <td>https://www.immobilienscout24.de/Suche/radius/...</td>\n",
       "    </tr>\n",
       "    <tr>\n",
       "      <td>2</td>\n",
       "      <td>110787901</td>\n",
       "      <td>https://www.immobilienscout24.de/expose/110787901</td>\n",
       "      <td>2020-01-26 22:09:45.714092</td>\n",
       "      <td>https://www.immobilienscout24.de/Suche/radius/...</td>\n",
       "    </tr>\n",
       "    <tr>\n",
       "      <td>3</td>\n",
       "      <td>113716154</td>\n",
       "      <td>https://www.immobilienscout24.de/expose/113716154</td>\n",
       "      <td>2020-01-26 22:09:45.714092</td>\n",
       "      <td>https://www.immobilienscout24.de/Suche/radius/...</td>\n",
       "    </tr>\n",
       "    <tr>\n",
       "      <td>4</td>\n",
       "      <td>114929953</td>\n",
       "      <td>https://www.immobilienscout24.de/expose/114929953</td>\n",
       "      <td>2020-01-26 22:09:45.714092</td>\n",
       "      <td>https://www.immobilienscout24.de/Suche/radius/...</td>\n",
       "    </tr>\n",
       "  </tbody>\n",
       "</table>\n",
       "</div>"
      ],
      "text/plain": [
       "    ExposeID                                          ExposeURL  \\\n",
       "0  114892178  https://www.immobilienscout24.de/expose/114892178   \n",
       "1  115435502  https://www.immobilienscout24.de/expose/115435502   \n",
       "2  110787901  https://www.immobilienscout24.de/expose/110787901   \n",
       "3  113716154  https://www.immobilienscout24.de/expose/113716154   \n",
       "4  114929953  https://www.immobilienscout24.de/expose/114929953   \n",
       "\n",
       "                DownloadDate  \\\n",
       "0 2020-01-26 22:09:45.714092   \n",
       "1 2020-01-26 22:09:45.714092   \n",
       "2 2020-01-26 22:09:45.714092   \n",
       "3 2020-01-26 22:09:45.714092   \n",
       "4 2020-01-26 22:09:45.714092   \n",
       "\n",
       "                                           SearchURL  \n",
       "0  https://www.immobilienscout24.de/Suche/radius/...  \n",
       "1  https://www.immobilienscout24.de/Suche/radius/...  \n",
       "2  https://www.immobilienscout24.de/Suche/radius/...  \n",
       "3  https://www.immobilienscout24.de/Suche/radius/...  \n",
       "4  https://www.immobilienscout24.de/Suche/radius/...  "
      ]
     },
     "execution_count": 7,
     "metadata": {},
     "output_type": "execute_result"
    }
   ],
   "source": [
    "#Create Pandas DataFrame with ExposeID, ExposeURL and Download date\n",
    "ExposeDF = pd.DataFrame({\"ExposeID\":ExposeIDList, \"ExposeURL\":ExposeURLList})\n",
    "ExposeDF[\"DownloadDate\"] = DateTimeToday\n",
    "ExposeDF[\"SearchURL\"] = URLwCriteria+str(1)\n",
    "ExposeDF.head()"
   ]
  },
  {
   "cell_type": "code",
   "execution_count": 8,
   "metadata": {},
   "outputs": [],
   "source": [
    "#save DataFrame as .csv with current date to specified folder\n",
    "ExposeDF.to_csv(DownloadFilePath, index=False)"
   ]
  },
  {
   "cell_type": "code",
   "execution_count": 9,
   "metadata": {},
   "outputs": [],
   "source": [
    "#append downloads to master file which collects all the downloaded URLs\n",
    "##check if master file exists. if yes, do not add headers to file, if no add header\n",
    "if path.exists(DownloadMasterPath):\n",
    "    ExposeDF.to_csv(DownloadMasterPath, mode = \"a\", header = False)\n",
    "else:\n",
    "    ExposeDF.to_csv(DownloadMasterPath, mode = \"a\", header = True)"
   ]
  },
  {
   "cell_type": "code",
   "execution_count": 10,
   "metadata": {},
   "outputs": [],
   "source": [
    "#open master file, write current entries (date) to \"New\"-file, if same Expose-ID not in List yet (with older date)\n",
    "MasterDF = pd.read_csv(DownloadMasterPath, index_col=0)\n",
    "MasterDF.head()\n",
    "\n",
    "#check master for duplicate ExposeIDs, get their Indices and create a new DF from ExposeID with duplicates dropped\n",
    "#or check master for duplicate ExposeIDs and delete latest ones (i.e. keep first one and delete appended one), filter for current date\n",
    "idx = MasterDF.ExposeID\n",
    "idx = idx.drop_duplicates(keep = \"first\")\n",
    "#print(idx)"
   ]
  },
  {
   "cell_type": "code",
   "execution_count": 11,
   "metadata": {},
   "outputs": [
    {
     "data": {
      "text/plain": [
       "(126, 4)"
      ]
     },
     "execution_count": 11,
     "metadata": {},
     "output_type": "execute_result"
    }
   ],
   "source": [
    "NewDF = MasterDF.loc[MasterDF.ExposeID.isin(idx)]\n",
    "NewDF.shape"
   ]
  },
  {
   "cell_type": "code",
   "execution_count": 12,
   "metadata": {},
   "outputs": [],
   "source": [
    "#open \"New\"-file and use Expose-API to add information from Exposes"
   ]
  },
  {
   "cell_type": "code",
   "execution_count": 13,
   "metadata": {},
   "outputs": [],
   "source": [
    "#save IDs + information in final file"
   ]
  },
  {
   "cell_type": "markdown",
   "metadata": {},
   "source": [
    "instruction to open result file (.csv) in Excel (or similar):\n",
    "1) open .csv file in Excel\n",
    "2) mark first column (\"A\")\n",
    "3) go to \"Data\" -> \"Text to columns\"\n",
    "4) choose \"delimited\", then \"comma\" as separator. you can choose formats for certain columns but not necessary\n",
    "5) save copy as Excel-File. Do (beeter) not save changes to the original file, if you still want to process them"
   ]
  },
  {
   "cell_type": "code",
   "execution_count": 14,
   "metadata": {},
   "outputs": [],
   "source": [
    "#Issues\n",
    "#1) removal of \"other offers\". probably keep in URLs (should be about 10 suggestions per search, only on last page) then check location in Expose\n",
    "# or don t use \"set\" for ExposeURLList to keep the order and then cut the last 10 \n",
    "#2) only checks, if Expose-ID has been downloaded before. If Expose has been updated (e.g. price), it will still be ignored. Possible workaround: download all Exposes and check, if there s a date for last update in API-response (JSON)\n",
    "#3) use github to track issues and for versioning\n",
    "\n",
    "#Features to be added: \n",
    "#a) in progress: compare to \"old\" masterfile to also create a list of only new ones\n",
    "#c) use shapes instead of cities in search. should be encoded in URLs of saved searches so probably not much of a change\n",
    "#d) upload resultfile to nextcloud\n",
    "#e) cronjob on raspi"
   ]
  }
 ],
 "metadata": {
  "kernelspec": {
   "display_name": "Python 3",
   "language": "python",
   "name": "python3"
  },
  "language_info": {
   "codemirror_mode": {
    "name": "ipython",
    "version": 3
   },
   "file_extension": ".py",
   "mimetype": "text/x-python",
   "name": "python",
   "nbconvert_exporter": "python",
   "pygments_lexer": "ipython3",
   "version": "3.7.4"
  }
 },
 "nbformat": 4,
 "nbformat_minor": 2
}
