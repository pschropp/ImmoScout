{
 "cells": [
  {
   "cell_type": "markdown",
   "metadata": {},
   "source": [
    "ImmoScoutScraper for immobilienscout24.de API.\n",
    "Specify SaveFolder to have the result .csv saved there"
   ]
  },
  {
   "cell_type": "code",
   "execution_count": 1,
   "metadata": {},
   "outputs": [],
   "source": [
    "import os.path\n",
    "from os import path\n",
    "import requests\n",
    "from rauth import OAuth1Service\n",
    "import webbrowser\n",
    "import pandas as pd\n",
    "import math"
   ]
  },
  {
   "cell_type": "markdown",
   "metadata": {},
   "source": [
    "Authentication via OAuth 1.0\n",
    "System Key / Consumer Key: habitat-propertyKey\n",
    "API Secret / Consumer Secret: 46JUhnw694pnxDHc\n",
    "Sandbox API Secret / Consumer Secret: dcP7Cj3cxf3Gv6nG\n",
    "Sandbox User Email: is24_tuv_77696995_28953@test.com\n",
    "Sandbox User Password: Tuvtestuser59617818"
   ]
  },
  {
   "cell_type": "code",
   "execution_count": 8,
   "metadata": {},
   "outputs": [],
   "source": [
    "try:\n",
    "    read_input = raw_input\n",
    "except NameError:\n",
    "    read_input = input\n",
    " \n",
    "# Get a consumer key & secret from immoscout\n",
    "immoauth = OAuth1Service(\n",
    "    name='immoscout',\n",
    "    consumer_key='habitat-propertyKey',\n",
    "    consumer_secret='46JUhnw694pnxDHc',\n",
    "    request_token_url='https://rest.immobilienscout24.de/restapi/security/oauth/request_token',\n",
    "    access_token_url='https://rest.immobilienscout24.de/restapi/security/oauth/access_token',\n",
    "    authorize_url='https://rest.immobilienscout24.de/restapi/security/oauth/confirm_access',\n",
    "    base_url='https://rest.immobilienscout24.de/restapi/api/')"
   ]
  },
  {
   "cell_type": "code",
   "execution_count": 9,
   "metadata": {},
   "outputs": [],
   "source": [
    "request_token, request_token_secret = immoauth.get_request_token(\n",
    "    method='GET',\n",
    "    params={'oauth_callback': 'oob'})"
   ]
  },
  {
   "cell_type": "code",
   "execution_count": 10,
   "metadata": {},
   "outputs": [
    {
     "name": "stdout",
     "output_type": "stream",
     "text": [
      "Enter PIN from browser: 16nmwU\n"
     ]
    }
   ],
   "source": [
    "authorize_url = immoauth.get_authorize_url(request_token)\n",
    "webbrowser.open(authorize_url)\n",
    "pin = read_input('Enter PIN from browser: ')\n",
    "#print('Visit this URL in your browser: {url}'.format(url=authorize_url))\n",
    "#pin = read_input('Enter PIN from browser: ')"
   ]
  },
  {
   "cell_type": "code",
   "execution_count": 11,
   "metadata": {},
   "outputs": [],
   "source": [
    "session = immoauth.get_auth_session(request_token,\n",
    "                                   request_token_secret,\n",
    "                                   method='POST',\n",
    "                                   data={'oauth_verifier': pin})"
   ]
  },
  {
   "cell_type": "markdown",
   "metadata": {},
   "source": [
    "End of authentication, start program code"
   ]
  },
  {
   "cell_type": "code",
   "execution_count": 11,
   "metadata": {},
   "outputs": [
    {
     "name": "stdout",
     "output_type": "stream",
     "text": [
      "<Response [404]>\n"
     ]
    }
   ],
   "source": [
    "r = session.get(\"https://rest.immobilienscout24.de/restapi/api/search/v1.0/expose/118537081\")\n",
    "print(r)"
   ]
  },
  {
   "cell_type": "code",
   "execution_count": 15,
   "metadata": {},
   "outputs": [
    {
     "name": "stdout",
     "output_type": "stream",
     "text": [
      "<Response [404]>\n"
     ]
    }
   ],
   "source": [
    "params = {'exposeid': '118537081'}\n",
    "r = session.get('search/v1.0/search/expose', params=params)\n",
    "print(r)"
   ]
  },
  {
   "cell_type": "code",
   "execution_count": 12,
   "metadata": {},
   "outputs": [
    {
     "name": "stdout",
     "output_type": "stream",
     "text": [
      "<Response [401]>\n"
     ]
    }
   ],
   "source": [
    "r = session.get(\"search/v1.0/search/region?realestatetype=apartmentrent&geocodes=1276002050\")\n",
    "print(r)\n"
   ]
  },
  {
   "cell_type": "code",
   "execution_count": 13,
   "metadata": {},
   "outputs": [
    {
     "name": "stdout",
     "output_type": "stream",
     "text": [
      "<Response [404]>\n"
     ]
    }
   ],
   "source": [
    "#testabfrage\n",
    "#params = {'geocoordinates': '52.512303;13.431191;1',\n",
    "#          'realestatetype': 'apartmentrent'}\n",
    "params = {'geocodes': '1276002050',\n",
    "          'realestatetype': 'apartmentrent'}\n",
    "r = session.get('search/v1.0/search/region', params=params)\n",
    "print(r)"
   ]
  },
  {
   "cell_type": "code",
   "execution_count": null,
   "metadata": {},
   "outputs": [],
   "source": [
    "RealEstates = r.json()"
   ]
  },
  {
   "cell_type": "code",
   "execution_count": 3,
   "metadata": {},
   "outputs": [
    {
     "name": "stdout",
     "output_type": "stream",
     "text": [
      "<Response [401]>\n"
     ]
    }
   ],
   "source": [
    "page = requests.get(\"https://rest.immobilienscout24.de/restapi/api/search/v1.0/expose/118101115\", timeout=3)\n",
    "print(page)"
   ]
  },
  {
   "cell_type": "code",
   "execution_count": 24,
   "metadata": {},
   "outputs": [],
   "source": [
    "#Inputs\n",
    "#Paste Search URL (with filters encoded into it) here\n",
    "URLwCriteria = \"https://www.immobilienscout24.de/Suche/radius/wohnung-kaufen?centerofsearchaddress=Landshut%20(Kreis);;;1276002051;Bayern;&numberofrooms=1.0-&price=-950000.0&livingspace=40.0-&geocoordinates=48.54481;12.19322;10.0&enteredFrom=one_step_search\"\n",
    "\n",
    "#specify folder to save results in (relative to JupyterProjects folder)\n",
    "SaveFolder = \"DownloadedFiles/\" #empty if it should be stored in same folder as script, other relative path to sript path\n",
    "DownloadFileName = \"ExposeURLs_WhngKaufen_LA\" #date and .csv will be added automaticalle. recommendation: specify Object type and location\n",
    "DownloadMasterName = \"Master_WhngKaufen_LA\""
   ]
  },
  {
   "cell_type": "code",
   "execution_count": 25,
   "metadata": {},
   "outputs": [],
   "source": [
    "#preprocess input\n",
    "##remove the \"enteredFrom=XYZ\" and add add \"pagenumber=\" from URL (assumption: user does not go to other search pages before copying URL)\n",
    "if \"enteredFrom=\" in URLwCriteria:\n",
    "    URLwCriteria = URLwCriteria[:URLwCriteria.find(\"&enteredFrom=\",33)] #33 as startposition for search (after \"www. ... .de/\" to speed up)\n",
    "URLwCriteria += \"&pagenumber=\"\n",
    "\n",
    "DateToday = str(pd.datetime.now().date())\n",
    "DateTimeToday = pd.to_datetime(\"today\")\n",
    "\n",
    "##construct paths from filenames and folder\n",
    "DownloadFilePath = SaveFolder+DateToday+\"_\"+DownloadFileName\n",
    "DownloadFilePath_newExp = SaveFolder+DateToday+\"_\"+DownloadFileName+\"_newExp\"\n",
    "DownloadMasterPath = SaveFolder+DownloadMasterName"
   ]
  },
  {
   "cell_type": "code",
   "execution_count": 26,
   "metadata": {},
   "outputs": [],
   "source": [
    "#Loop over result pages. starting with 1 up number of results divided by 20 (which is the number of results displayed per result page)\n",
    "\n",
    "while PageNo < ResultPageNo:\n",
    "    PageNo += 1\n",
    "\n",
    "    URLwPageNo = URLwCriteria + str(PageNo)\n",
    "    page = requests.get(URLwPageNo, timeout=3)\n",
    "    soup = BeautifulSoup(page.content, 'html.parser')\n",
    "\n",
    "    #find number of search results to calculate number of pages to check, if on first page\n",
    "    if PageNo == 1:\n",
    "        titletext = soup.find (\"div\", class_=\"palm-hide margin-bottom-m\")\n",
    "        #print(titletext)\n",
    "        resultnumberhtml = titletext.find(\"span\")\n",
    "        resultnumber=resultnumberhtml.text\n",
    "        #print(resultnumber)\n",
    "        #calculate number of pages to check\n",
    "        ResultPageNo = math.ceil(int(resultnumber)/20)\n",
    "        #print(ResultPageNo)\n",
    "\n",
    "    #Extract Links from html and then extract only URL itself after \"href\"\n",
    "    HtmlLinks = soup.find_all('a')\n",
    "    #print(HtmlLinks)\n",
    "    for HtmlLink in HtmlLinks:\n",
    "        LinkText = HtmlLink.get(\"href\")\n",
    "        #print(LinkText)\n",
    "        LinkList.append(LinkText[:17])  "
   ]
  },
  {
   "cell_type": "code",
   "execution_count": 27,
   "metadata": {},
   "outputs": [],
   "source": [
    "#print(LinkList)\n",
    "#clean up\n",
    "del soup"
   ]
  },
  {
   "cell_type": "code",
   "execution_count": 28,
   "metadata": {},
   "outputs": [],
   "source": [
    "#Create list of URLs of (only) Exposes, extracted from list of all links after looping over result pages\n",
    "ExposeURLList = list(set([\"https://www.immobilienscout24.de\"+ExposePath for ExposePath in LinkList if \"/expose/\" in ExposePath])) #use set to remove duplicates. order will be lost\n",
    "#print(ExposeURLList)\n",
    "#print(len(ExposeURLList))\n",
    "\n",
    "#Create list of Expose IDs from ExposeURLList\n",
    "ExposeIDList = [ExposeURL[40:49] for ExposeURL in ExposeURLList]\n",
    "#print(ExposeIDList)"
   ]
  },
  {
   "cell_type": "code",
   "execution_count": 29,
   "metadata": {},
   "outputs": [
    {
     "data": {
      "text/html": [
       "<div>\n",
       "<style scoped>\n",
       "    .dataframe tbody tr th:only-of-type {\n",
       "        vertical-align: middle;\n",
       "    }\n",
       "\n",
       "    .dataframe tbody tr th {\n",
       "        vertical-align: top;\n",
       "    }\n",
       "\n",
       "    .dataframe thead th {\n",
       "        text-align: right;\n",
       "    }\n",
       "</style>\n",
       "<table border=\"1\" class=\"dataframe\">\n",
       "  <thead>\n",
       "    <tr style=\"text-align: right;\">\n",
       "      <th></th>\n",
       "      <th>ExposeID</th>\n",
       "      <th>ExposeURL</th>\n",
       "      <th>DownloadDate</th>\n",
       "      <th>SearchURL</th>\n",
       "    </tr>\n",
       "  </thead>\n",
       "  <tbody>\n",
       "    <tr>\n",
       "      <td>0</td>\n",
       "      <td>115484389</td>\n",
       "      <td>https://www.immobilienscout24.de/expose/115484389</td>\n",
       "      <td>2020-02-13 00:29:41.714637</td>\n",
       "      <td>https://www.immobilienscout24.de/Suche/radius/...</td>\n",
       "    </tr>\n",
       "    <tr>\n",
       "      <td>1</td>\n",
       "      <td>115595343</td>\n",
       "      <td>https://www.immobilienscout24.de/expose/115595343</td>\n",
       "      <td>2020-02-13 00:29:41.714637</td>\n",
       "      <td>https://www.immobilienscout24.de/Suche/radius/...</td>\n",
       "    </tr>\n",
       "    <tr>\n",
       "      <td>2</td>\n",
       "      <td>114892178</td>\n",
       "      <td>https://www.immobilienscout24.de/expose/114892178</td>\n",
       "      <td>2020-02-13 00:29:41.714637</td>\n",
       "      <td>https://www.immobilienscout24.de/Suche/radius/...</td>\n",
       "    </tr>\n",
       "    <tr>\n",
       "      <td>3</td>\n",
       "      <td>113536800</td>\n",
       "      <td>https://www.immobilienscout24.de/expose/113536800</td>\n",
       "      <td>2020-02-13 00:29:41.714637</td>\n",
       "      <td>https://www.immobilienscout24.de/Suche/radius/...</td>\n",
       "    </tr>\n",
       "    <tr>\n",
       "      <td>4</td>\n",
       "      <td>115633718</td>\n",
       "      <td>https://www.immobilienscout24.de/expose/115633718</td>\n",
       "      <td>2020-02-13 00:29:41.714637</td>\n",
       "      <td>https://www.immobilienscout24.de/Suche/radius/...</td>\n",
       "    </tr>\n",
       "  </tbody>\n",
       "</table>\n",
       "</div>"
      ],
      "text/plain": [
       "    ExposeID                                          ExposeURL  \\\n",
       "0  115484389  https://www.immobilienscout24.de/expose/115484389   \n",
       "1  115595343  https://www.immobilienscout24.de/expose/115595343   \n",
       "2  114892178  https://www.immobilienscout24.de/expose/114892178   \n",
       "3  113536800  https://www.immobilienscout24.de/expose/113536800   \n",
       "4  115633718  https://www.immobilienscout24.de/expose/115633718   \n",
       "\n",
       "                DownloadDate  \\\n",
       "0 2020-02-13 00:29:41.714637   \n",
       "1 2020-02-13 00:29:41.714637   \n",
       "2 2020-02-13 00:29:41.714637   \n",
       "3 2020-02-13 00:29:41.714637   \n",
       "4 2020-02-13 00:29:41.714637   \n",
       "\n",
       "                                           SearchURL  \n",
       "0  https://www.immobilienscout24.de/Suche/radius/...  \n",
       "1  https://www.immobilienscout24.de/Suche/radius/...  \n",
       "2  https://www.immobilienscout24.de/Suche/radius/...  \n",
       "3  https://www.immobilienscout24.de/Suche/radius/...  \n",
       "4  https://www.immobilienscout24.de/Suche/radius/...  "
      ]
     },
     "execution_count": 29,
     "metadata": {},
     "output_type": "execute_result"
    }
   ],
   "source": [
    "#Create Pandas DataFrame with ExposeID, ExposeURL and Download date\n",
    "ExposeDF = pd.DataFrame({\"ExposeID\":ExposeIDList, \"ExposeURL\":ExposeURLList})\n",
    "ExposeDF[\"DownloadDate\"] = DateTimeToday\n",
    "ExposeDF[\"SearchURL\"] = URLwCriteria\n",
    "ExposeDF.set_index(\"ExposeID\")\n",
    "ExposeDF.head()"
   ]
  },
  {
   "cell_type": "code",
   "execution_count": 30,
   "metadata": {},
   "outputs": [],
   "source": [
    "#save DataFrame as .csv with current date to specified folder\n",
    "ExposeDF.to_csv(DownloadFilePath+\".csv\", index=False, header = True)"
   ]
  },
  {
   "cell_type": "code",
   "execution_count": 31,
   "metadata": {},
   "outputs": [],
   "source": [
    "#append downloads to master file which collects all the downloaded URLs\n",
    "##check if master file exists. if yes, do not add headers to file, if no add header\n",
    "if path.exists(DownloadMasterPath):\n",
    "    ExposeDF.to_csv(DownloadMasterPath+\".csv\", mode = \"a\", header = False)\n",
    "else:\n",
    "    ExposeDF.to_csv(DownloadMasterPath+\".csv\", mode = \"a\", header = True)"
   ]
  },
  {
   "cell_type": "code",
   "execution_count": 32,
   "metadata": {},
   "outputs": [],
   "source": [
    "# open master file\n",
    "MasterDF = pd.read_csv(DownloadMasterPath+\".csv\", index_col=0)\n",
    "\n",
    "#Compare newly fetched IDs to IDs in Masterfile and write only new entries to \"New\"-file\n",
    "#NewDF = ExposeDF[~ExposeDF.ExposeID.isin(MasterDF.ExposeID)]\n",
    "#NewDF.to_csv(DownloadFilePath_newExp+\".csv\", index=False, header = True)\n",
    "#NewDF.to_excel(DownloadFilePath_newExp+\".xlsx\", index=False, header = True)"
   ]
  },
  {
   "cell_type": "code",
   "execution_count": 11,
   "metadata": {},
   "outputs": [],
   "source": [
    "#open accordant file (depending on use-case) and use a) Scrape using ExposeURLs or b) Expose-API to add information from Exposes\n",
    "#here try a)\n",
    "##depending on which to check either read file to Dataframe or use one of the above DataFrames\n",
    "###assumption for this file: fill in information to the ExpoIDs found today in Masterfile\n",
    "ExposeResultDF = MasterDF\n",
    "\n",
    "#loop over different ExposeIDs (while or for?)\n",
    "for ExpoID in ExposeResultDF.ExposeID & ExposeResultDF.DownloadDate == DateTimeToday\n",
    "    ExposeURL = \"https://www.immobilienscout24.de/expose/\"+ExpoID\n",
    "    ExposePage = requests.get(ExposeURL, timeout=3)\n",
    "    ExposeSoup = BeautifulSoup(ExposePage.content, 'html.parser')\n",
    "    \n",
    "    #extract Info from Expose and add to DF"
   ]
  },
  {
   "cell_type": "code",
   "execution_count": 12,
   "metadata": {},
   "outputs": [],
   "source": [
    "#save IDs + information in final file"
   ]
  },
  {
   "cell_type": "markdown",
   "metadata": {},
   "source": [
    "instruction to open result file (.csv) in Excel (or similar) (note: direct export Excel also available): \n",
    "1) open .csv file in Excel\n",
    "2) mark first column (\"A\")\n",
    "3) go to \"Data\" -> \"Text to columns\"\n",
    "4) choose \"delimited\", then \"comma\" as separator. you can choose formats for certain columns but not necessary\n",
    "5) save copy as Excel-File. Do (beeter) not save changes to the original file, if you still want to process them"
   ]
  }
 ],
 "metadata": {
  "kernelspec": {
   "display_name": "Python 3",
   "language": "python",
   "name": "python3"
  },
  "language_info": {
   "codemirror_mode": {
    "name": "ipython",
    "version": 3
   },
   "file_extension": ".py",
   "mimetype": "text/x-python",
   "name": "python",
   "nbconvert_exporter": "python",
   "pygments_lexer": "ipython3",
   "version": "3.7.4"
  }
 },
 "nbformat": 4,
 "nbformat_minor": 2
}
